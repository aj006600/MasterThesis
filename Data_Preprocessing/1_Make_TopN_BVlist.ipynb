{
 "cells": [
  {
   "cell_type": "code",
   "execution_count": 1,
   "metadata": {},
   "outputs": [],
   "source": [
    "import pandas as pd\n",
    "\n",
    "import warnings\n",
    "warnings.filterwarnings('ignore')"
   ]
  },
  {
   "cell_type": "markdown",
   "metadata": {},
   "source": [
    "1.製作每日成交值前n名的DataFrame"
   ]
  },
  {
   "cell_type": "code",
   "execution_count": 2,
   "metadata": {},
   "outputs": [],
   "source": [
    "msci_data = pd.read_csv('/Users/yitsung/git/MastersThesis/data/TaiwanStockData_(msci).csv')\n",
    "msci_data['Date'] = pd.to_datetime(msci_data['Date'])\n",
    "msci_data = msci_data[['Ticker', 'Date', 'VxP']]\n",
    "\n",
    "### 選定日期 ###\n",
    "msci_data = msci_data[msci_data['Date'] >= '2021-01-01'].reset_index(drop=True) # 選取21年後的所有資料\n",
    "\n",
    "### 選取每日成交值前n=200名的data ###\n",
    "BV_topN_df = msci_data.groupby('Date').apply(lambda x: x.nlargest(2000, 'VxP')).reset_index(drop=True)\n",
    "\n",
    "### 輸出成csv檔 ###\n",
    "# BV_topN_df.to_csv('BusinessVolume_TopN_perDay.csv', index=False)"
   ]
  },
  {
   "cell_type": "code",
   "execution_count": 19,
   "metadata": {},
   "outputs": [
    {
     "data": {
      "text/html": [
       "<div>\n",
       "<style scoped>\n",
       "    .dataframe tbody tr th:only-of-type {\n",
       "        vertical-align: middle;\n",
       "    }\n",
       "\n",
       "    .dataframe tbody tr th {\n",
       "        vertical-align: top;\n",
       "    }\n",
       "\n",
       "    .dataframe thead th {\n",
       "        text-align: right;\n",
       "    }\n",
       "</style>\n",
       "<table border=\"1\" class=\"dataframe\">\n",
       "  <thead>\n",
       "    <tr style=\"text-align: right;\">\n",
       "      <th></th>\n",
       "      <th>Ticker</th>\n",
       "      <th>Date</th>\n",
       "      <th>VxP</th>\n",
       "    </tr>\n",
       "  </thead>\n",
       "  <tbody>\n",
       "    <tr>\n",
       "      <th>0</th>\n",
       "      <td>2317</td>\n",
       "      <td>2021-01-04</td>\n",
       "      <td>23349327.3</td>\n",
       "    </tr>\n",
       "    <tr>\n",
       "      <th>1</th>\n",
       "      <td>2603</td>\n",
       "      <td>2021-01-04</td>\n",
       "      <td>22999173.0</td>\n",
       "    </tr>\n",
       "    <tr>\n",
       "      <th>2</th>\n",
       "      <td>2330</td>\n",
       "      <td>2021-01-04</td>\n",
       "      <td>21166640.0</td>\n",
       "    </tr>\n",
       "    <tr>\n",
       "      <th>3</th>\n",
       "      <td>2303</td>\n",
       "      <td>2021-01-04</td>\n",
       "      <td>18415318.4</td>\n",
       "    </tr>\n",
       "    <tr>\n",
       "      <th>4</th>\n",
       "      <td>2454</td>\n",
       "      <td>2021-01-04</td>\n",
       "      <td>11201256.0</td>\n",
       "    </tr>\n",
       "    <tr>\n",
       "      <th>...</th>\n",
       "      <td>...</td>\n",
       "      <td>...</td>\n",
       "      <td>...</td>\n",
       "    </tr>\n",
       "    <tr>\n",
       "      <th>1269863</th>\n",
       "      <td>3465</td>\n",
       "      <td>2023-12-08</td>\n",
       "      <td>0.0</td>\n",
       "    </tr>\n",
       "    <tr>\n",
       "      <th>1269864</th>\n",
       "      <td>3455</td>\n",
       "      <td>2023-12-08</td>\n",
       "      <td>0.0</td>\n",
       "    </tr>\n",
       "    <tr>\n",
       "      <th>1269865</th>\n",
       "      <td>3454</td>\n",
       "      <td>2023-12-08</td>\n",
       "      <td>0.0</td>\n",
       "    </tr>\n",
       "    <tr>\n",
       "      <th>1269866</th>\n",
       "      <td>3450</td>\n",
       "      <td>2023-12-08</td>\n",
       "      <td>0.0</td>\n",
       "    </tr>\n",
       "    <tr>\n",
       "      <th>1269867</th>\n",
       "      <td>3555</td>\n",
       "      <td>2023-12-08</td>\n",
       "      <td>0.0</td>\n",
       "    </tr>\n",
       "  </tbody>\n",
       "</table>\n",
       "<p>1269868 rows × 3 columns</p>\n",
       "</div>"
      ],
      "text/plain": [
       "         Ticker       Date         VxP\n",
       "0          2317 2021-01-04  23349327.3\n",
       "1          2603 2021-01-04  22999173.0\n",
       "2          2330 2021-01-04  21166640.0\n",
       "3          2303 2021-01-04  18415318.4\n",
       "4          2454 2021-01-04  11201256.0\n",
       "...         ...        ...         ...\n",
       "1269863    3465 2023-12-08         0.0\n",
       "1269864    3455 2023-12-08         0.0\n",
       "1269865    3454 2023-12-08         0.0\n",
       "1269866    3450 2023-12-08         0.0\n",
       "1269867    3555 2023-12-08         0.0\n",
       "\n",
       "[1269868 rows x 3 columns]"
      ]
     },
     "execution_count": 19,
     "metadata": {},
     "output_type": "execute_result"
    }
   ],
   "source": [
    "BV_topN_df"
   ]
  },
  {
   "cell_type": "markdown",
   "metadata": {},
   "source": [
    "2.製作成交值TopN的Ticker名單, 日期名單"
   ]
  },
  {
   "cell_type": "code",
   "execution_count": 20,
   "metadata": {},
   "outputs": [],
   "source": [
    "unique_ticker = BV_topN_df['Ticker'].unique()\n",
    "\n",
    "unique_dates = BV_topN_df['Date'].unique()\n",
    "unique_dates = unique_dates.strftime('%Y-%m-%d')"
   ]
  },
  {
   "cell_type": "code",
   "execution_count": 21,
   "metadata": {},
   "outputs": [
    {
     "data": {
      "text/plain": [
       "1799"
      ]
     },
     "execution_count": 21,
     "metadata": {},
     "output_type": "execute_result"
    }
   ],
   "source": [
    "len(unique_ticker)"
   ]
  }
 ],
 "metadata": {
  "kernelspec": {
   "display_name": "env1",
   "language": "python",
   "name": "python3"
  },
  "language_info": {
   "codemirror_mode": {
    "name": "ipython",
    "version": 3
   },
   "file_extension": ".py",
   "mimetype": "text/x-python",
   "name": "python",
   "nbconvert_exporter": "python",
   "pygments_lexer": "ipython3",
   "version": "3.9.16"
  }
 },
 "nbformat": 4,
 "nbformat_minor": 2
}
