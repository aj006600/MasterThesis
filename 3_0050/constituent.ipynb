{
 "cells": [
  {
   "cell_type": "code",
   "execution_count": 1,
   "metadata": {},
   "outputs": [],
   "source": [
    "import pandas as pd\n",
    "import numpy as np"
   ]
  },
  {
   "cell_type": "code",
   "execution_count": null,
   "metadata": {},
   "outputs": [],
   "source": [
    "### 0050 constituent ###\n",
    "\n",
    "constituent = [2330, 2454, 2317, 2308, 2382, 2303, 2891, 3711, 2881, 2412,\n",
    "               2886, 2882, 2884, 1216, 2885, 3231, 3034, 2357, 2002, 2892,\n",
    "               1303, 2379, 5880, 2301, 3037, 2345, 1301, 3008, 3661, 2890,\n",
    "               5871, 2880, 2327, 2883, 2887, 2207, 4938, 1101, 6669, 1326,\n",
    "               2395, 3045, 5876, 2603, 1590, 2912, 4904, 2801, 6505, 2408]"
   ]
  }
 ],
 "metadata": {
  "kernelspec": {
   "display_name": "env1",
   "language": "python",
   "name": "python3"
  },
  "language_info": {
   "codemirror_mode": {
    "name": "ipython",
    "version": 3
   },
   "file_extension": ".py",
   "mimetype": "text/x-python",
   "name": "python",
   "nbconvert_exporter": "python",
   "pygments_lexer": "ipython3",
   "version": "3.9.16"
  }
 },
 "nbformat": 4,
 "nbformat_minor": 2
}
